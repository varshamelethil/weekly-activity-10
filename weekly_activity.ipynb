{
 "cells": [
  {
   "cell_type": "markdown",
   "id": "aa6b66a9",
   "metadata": {},
   "source": [
    "# Q&A Activity Question Week -10\n",
    "### Do the following on the dataset\n",
    "1. Load the data into the pandas environment and identify some basic details of the dataset.\n",
    "2. Reset the index as \"name\" as the index.\n",
    "3. Select rows for specific names Jack Morgan and Josh wills.\n",
    "4. Select data for multiple values \"Sales\" and “Finance”.\n",
    "5. Display employee who has more than 700 performance score.\n",
    "6. Display employee who has more than 500 and less than 700 performance score\n",
    "7. Check and handle missing values in the dataset.\n",
    "8. Check the outliers and handle outliers in performance score using Percentiles.\n",
    "9. Check the gender column and do Dummy encoding.\n",
    "10. Do the standard scaling on the feature performance score."
   ]
  },
  {
   "cell_type": "code",
   "execution_count": 1,
   "id": "992c65f2",
   "metadata": {},
   "outputs": [],
   "source": [
    "#importing required libraries\n",
    "\n",
    "import pandas as pd\n",
    "import numpy as np\n",
    "import matplotlib.pyplot as plt\n",
    "import seaborn as sns\n"
   ]
  },
  {
   "cell_type": "code",
   "execution_count": 2,
   "id": "6403127d",
   "metadata": {},
   "outputs": [],
   "source": [
    "import warnings\n",
    "warnings.filterwarnings(action=\"ignore\")"
   ]
  },
  {
   "cell_type": "markdown",
   "id": "c4e9ac04",
   "metadata": {},
   "source": [
    "## 1.Load the data into the pandas environment and identify some basic details of the dataset."
   ]
  },
  {
   "cell_type": "code",
   "execution_count": 3,
   "id": "454d21d9",
   "metadata": {},
   "outputs": [],
   "source": [
    "# importing data set in to python envirinment \n",
    "df= pd.read_csv(\"employee.csv\")"
   ]
  },
  {
   "cell_type": "code",
   "execution_count": 4,
   "id": "bdf7f39a",
   "metadata": {},
   "outputs": [
    {
     "data": {
      "text/html": [
       "<div>\n",
       "<style scoped>\n",
       "    .dataframe tbody tr th:only-of-type {\n",
       "        vertical-align: middle;\n",
       "    }\n",
       "\n",
       "    .dataframe tbody tr th {\n",
       "        vertical-align: top;\n",
       "    }\n",
       "\n",
       "    .dataframe thead th {\n",
       "        text-align: right;\n",
       "    }\n",
       "</style>\n",
       "<table border=\"1\" class=\"dataframe\">\n",
       "  <thead>\n",
       "    <tr style=\"text-align: right;\">\n",
       "      <th></th>\n",
       "      <th>name</th>\n",
       "      <th>age</th>\n",
       "      <th>income</th>\n",
       "      <th>gender</th>\n",
       "      <th>department</th>\n",
       "      <th>grade</th>\n",
       "      <th>performance_score</th>\n",
       "    </tr>\n",
       "  </thead>\n",
       "  <tbody>\n",
       "    <tr>\n",
       "      <th>0</th>\n",
       "      <td>Allen Smith</td>\n",
       "      <td>45.0</td>\n",
       "      <td>NaN</td>\n",
       "      <td>NaN</td>\n",
       "      <td>Operations</td>\n",
       "      <td>G3</td>\n",
       "      <td>723</td>\n",
       "    </tr>\n",
       "    <tr>\n",
       "      <th>1</th>\n",
       "      <td>S Kumar</td>\n",
       "      <td>NaN</td>\n",
       "      <td>16000.0</td>\n",
       "      <td>F</td>\n",
       "      <td>Finance</td>\n",
       "      <td>G0</td>\n",
       "      <td>520</td>\n",
       "    </tr>\n",
       "    <tr>\n",
       "      <th>2</th>\n",
       "      <td>Jack Morgan</td>\n",
       "      <td>32.0</td>\n",
       "      <td>35000.0</td>\n",
       "      <td>M</td>\n",
       "      <td>Finance</td>\n",
       "      <td>G2</td>\n",
       "      <td>674</td>\n",
       "    </tr>\n",
       "    <tr>\n",
       "      <th>3</th>\n",
       "      <td>Ying Chin</td>\n",
       "      <td>45.0</td>\n",
       "      <td>65000.0</td>\n",
       "      <td>F</td>\n",
       "      <td>Sales</td>\n",
       "      <td>G3</td>\n",
       "      <td>556</td>\n",
       "    </tr>\n",
       "    <tr>\n",
       "      <th>4</th>\n",
       "      <td>Dheeraj Patel</td>\n",
       "      <td>30.0</td>\n",
       "      <td>42000.0</td>\n",
       "      <td>F</td>\n",
       "      <td>Operations</td>\n",
       "      <td>G2</td>\n",
       "      <td>711</td>\n",
       "    </tr>\n",
       "    <tr>\n",
       "      <th>5</th>\n",
       "      <td>Satyam Sharma</td>\n",
       "      <td>NaN</td>\n",
       "      <td>62000.0</td>\n",
       "      <td>NaN</td>\n",
       "      <td>Sales</td>\n",
       "      <td>G3</td>\n",
       "      <td>649</td>\n",
       "    </tr>\n",
       "    <tr>\n",
       "      <th>6</th>\n",
       "      <td>James Authur</td>\n",
       "      <td>54.0</td>\n",
       "      <td>NaN</td>\n",
       "      <td>F</td>\n",
       "      <td>Operations</td>\n",
       "      <td>G3</td>\n",
       "      <td>53</td>\n",
       "    </tr>\n",
       "    <tr>\n",
       "      <th>7</th>\n",
       "      <td>Josh Wills</td>\n",
       "      <td>54.0</td>\n",
       "      <td>52000.0</td>\n",
       "      <td>F</td>\n",
       "      <td>Finance</td>\n",
       "      <td>G3</td>\n",
       "      <td>901</td>\n",
       "    </tr>\n",
       "    <tr>\n",
       "      <th>8</th>\n",
       "      <td>Leo Duck</td>\n",
       "      <td>23.0</td>\n",
       "      <td>98000.0</td>\n",
       "      <td>M</td>\n",
       "      <td>Sales</td>\n",
       "      <td>G4</td>\n",
       "      <td>709</td>\n",
       "    </tr>\n",
       "  </tbody>\n",
       "</table>\n",
       "</div>"
      ],
      "text/plain": [
       "            name   age   income gender  department grade  performance_score\n",
       "0    Allen Smith  45.0      NaN    NaN  Operations    G3                723\n",
       "1        S Kumar   NaN  16000.0      F     Finance    G0                520\n",
       "2    Jack Morgan  32.0  35000.0      M     Finance    G2                674\n",
       "3      Ying Chin  45.0  65000.0      F       Sales    G3                556\n",
       "4  Dheeraj Patel  30.0  42000.0      F  Operations    G2                711\n",
       "5  Satyam Sharma   NaN  62000.0    NaN       Sales    G3                649\n",
       "6   James Authur  54.0      NaN      F  Operations    G3                 53\n",
       "7     Josh Wills  54.0  52000.0      F     Finance    G3                901\n",
       "8       Leo Duck  23.0  98000.0      M       Sales    G4                709"
      ]
     },
     "execution_count": 4,
     "metadata": {},
     "output_type": "execute_result"
    }
   ],
   "source": [
    "df"
   ]
  },
  {
   "cell_type": "code",
   "execution_count": 5,
   "id": "dd69a3ff",
   "metadata": {},
   "outputs": [
    {
     "data": {
      "text/plain": [
       "(9, 7)"
      ]
     },
     "execution_count": 5,
     "metadata": {},
     "output_type": "execute_result"
    }
   ],
   "source": [
    "#shape of the dataset\n",
    "df.shape"
   ]
  },
  {
   "cell_type": "code",
   "execution_count": 6,
   "id": "f63f9dc5",
   "metadata": {},
   "outputs": [
    {
     "data": {
      "text/plain": [
       "Index(['name', 'age', 'income', 'gender', 'department', 'grade',\n",
       "       'performance_score'],\n",
       "      dtype='object')"
      ]
     },
     "execution_count": 6,
     "metadata": {},
     "output_type": "execute_result"
    }
   ],
   "source": [
    "#columns present in the dataset\n",
    "df.columns"
   ]
  },
  {
   "cell_type": "code",
   "execution_count": 7,
   "id": "68148606",
   "metadata": {},
   "outputs": [
    {
     "name": "stdout",
     "output_type": "stream",
     "text": [
      "<class 'pandas.core.frame.DataFrame'>\n",
      "RangeIndex: 9 entries, 0 to 8\n",
      "Data columns (total 7 columns):\n",
      " #   Column             Non-Null Count  Dtype  \n",
      "---  ------             --------------  -----  \n",
      " 0   name               9 non-null      object \n",
      " 1   age                7 non-null      float64\n",
      " 2   income             7 non-null      float64\n",
      " 3   gender             7 non-null      object \n",
      " 4   department         9 non-null      object \n",
      " 5   grade              9 non-null      object \n",
      " 6   performance_score  9 non-null      int64  \n",
      "dtypes: float64(2), int64(1), object(4)\n",
      "memory usage: 632.0+ bytes\n"
     ]
    }
   ],
   "source": [
    "#A concise summary of the dataset\n",
    "df.info()"
   ]
  },
  {
   "cell_type": "code",
   "execution_count": 8,
   "id": "78a8fb7a",
   "metadata": {},
   "outputs": [
    {
     "data": {
      "text/html": [
       "<div>\n",
       "<style scoped>\n",
       "    .dataframe tbody tr th:only-of-type {\n",
       "        vertical-align: middle;\n",
       "    }\n",
       "\n",
       "    .dataframe tbody tr th {\n",
       "        vertical-align: top;\n",
       "    }\n",
       "\n",
       "    .dataframe thead th {\n",
       "        text-align: right;\n",
       "    }\n",
       "</style>\n",
       "<table border=\"1\" class=\"dataframe\">\n",
       "  <thead>\n",
       "    <tr style=\"text-align: right;\">\n",
       "      <th></th>\n",
       "      <th>name</th>\n",
       "      <th>age</th>\n",
       "      <th>income</th>\n",
       "      <th>gender</th>\n",
       "      <th>department</th>\n",
       "      <th>grade</th>\n",
       "      <th>performance_score</th>\n",
       "    </tr>\n",
       "  </thead>\n",
       "  <tbody>\n",
       "    <tr>\n",
       "      <th>0</th>\n",
       "      <td>False</td>\n",
       "      <td>False</td>\n",
       "      <td>True</td>\n",
       "      <td>True</td>\n",
       "      <td>False</td>\n",
       "      <td>False</td>\n",
       "      <td>False</td>\n",
       "    </tr>\n",
       "    <tr>\n",
       "      <th>1</th>\n",
       "      <td>False</td>\n",
       "      <td>True</td>\n",
       "      <td>False</td>\n",
       "      <td>False</td>\n",
       "      <td>False</td>\n",
       "      <td>False</td>\n",
       "      <td>False</td>\n",
       "    </tr>\n",
       "    <tr>\n",
       "      <th>2</th>\n",
       "      <td>False</td>\n",
       "      <td>False</td>\n",
       "      <td>False</td>\n",
       "      <td>False</td>\n",
       "      <td>False</td>\n",
       "      <td>False</td>\n",
       "      <td>False</td>\n",
       "    </tr>\n",
       "    <tr>\n",
       "      <th>3</th>\n",
       "      <td>False</td>\n",
       "      <td>False</td>\n",
       "      <td>False</td>\n",
       "      <td>False</td>\n",
       "      <td>False</td>\n",
       "      <td>False</td>\n",
       "      <td>False</td>\n",
       "    </tr>\n",
       "    <tr>\n",
       "      <th>4</th>\n",
       "      <td>False</td>\n",
       "      <td>False</td>\n",
       "      <td>False</td>\n",
       "      <td>False</td>\n",
       "      <td>False</td>\n",
       "      <td>False</td>\n",
       "      <td>False</td>\n",
       "    </tr>\n",
       "    <tr>\n",
       "      <th>5</th>\n",
       "      <td>False</td>\n",
       "      <td>True</td>\n",
       "      <td>False</td>\n",
       "      <td>True</td>\n",
       "      <td>False</td>\n",
       "      <td>False</td>\n",
       "      <td>False</td>\n",
       "    </tr>\n",
       "    <tr>\n",
       "      <th>6</th>\n",
       "      <td>False</td>\n",
       "      <td>False</td>\n",
       "      <td>True</td>\n",
       "      <td>False</td>\n",
       "      <td>False</td>\n",
       "      <td>False</td>\n",
       "      <td>False</td>\n",
       "    </tr>\n",
       "    <tr>\n",
       "      <th>7</th>\n",
       "      <td>False</td>\n",
       "      <td>False</td>\n",
       "      <td>False</td>\n",
       "      <td>False</td>\n",
       "      <td>False</td>\n",
       "      <td>False</td>\n",
       "      <td>False</td>\n",
       "    </tr>\n",
       "    <tr>\n",
       "      <th>8</th>\n",
       "      <td>False</td>\n",
       "      <td>False</td>\n",
       "      <td>False</td>\n",
       "      <td>False</td>\n",
       "      <td>False</td>\n",
       "      <td>False</td>\n",
       "      <td>False</td>\n",
       "    </tr>\n",
       "  </tbody>\n",
       "</table>\n",
       "</div>"
      ],
      "text/plain": [
       "    name    age  income  gender  department  grade  performance_score\n",
       "0  False  False    True    True       False  False              False\n",
       "1  False   True   False   False       False  False              False\n",
       "2  False  False   False   False       False  False              False\n",
       "3  False  False   False   False       False  False              False\n",
       "4  False  False   False   False       False  False              False\n",
       "5  False   True   False    True       False  False              False\n",
       "6  False  False    True   False       False  False              False\n",
       "7  False  False   False   False       False  False              False\n",
       "8  False  False   False   False       False  False              False"
      ]
     },
     "execution_count": 8,
     "metadata": {},
     "output_type": "execute_result"
    }
   ],
   "source": [
    "df.isnull()"
   ]
  },
  {
   "cell_type": "code",
   "execution_count": 9,
   "id": "3b6f50a7",
   "metadata": {},
   "outputs": [
    {
     "data": {
      "text/plain": [
       "name                 0\n",
       "age                  2\n",
       "income               2\n",
       "gender               2\n",
       "department           0\n",
       "grade                0\n",
       "performance_score    0\n",
       "dtype: int64"
      ]
     },
     "execution_count": 9,
     "metadata": {},
     "output_type": "execute_result"
    }
   ],
   "source": [
    "# Checking null values\n",
    "df.isna().sum()"
   ]
  },
  {
   "cell_type": "code",
   "execution_count": 10,
   "id": "d8851f04",
   "metadata": {},
   "outputs": [
    {
     "data": {
      "text/plain": [
       "6"
      ]
     },
     "execution_count": 10,
     "metadata": {},
     "output_type": "execute_result"
    }
   ],
   "source": [
    "# Checking null values\n",
    "df.isna().sum().sum()"
   ]
  },
  {
   "cell_type": "code",
   "execution_count": 11,
   "id": "17215edb",
   "metadata": {},
   "outputs": [
    {
     "data": {
      "text/plain": [
       "<AxesSubplot:>"
      ]
     },
     "execution_count": 11,
     "metadata": {},
     "output_type": "execute_result"
    },
    {
     "data": {
      "image/png": "[encoded data removed]",
      "text/plain": [
       "<Figure size 432x288 with 1 Axes>"
      ]
     },
     "metadata": {
      "needs_background": "light"
     },
     "output_type": "display_data"
    }
   ],
   "source": [
    "sns.heatmap(df.isnull(),yticklabels= False,cbar=False,cmap=\"viridis\")"
   ]
  },
  {
   "cell_type": "code",
   "execution_count": 12,
   "id": "dbfd581c",
   "metadata": {},
   "outputs": [
    {
     "data": {
      "text/plain": [
       "name                 9\n",
       "age                  5\n",
       "income               7\n",
       "gender               2\n",
       "department           3\n",
       "grade                4\n",
       "performance_score    9\n",
       "dtype: int64"
      ]
     },
     "execution_count": 12,
     "metadata": {},
     "output_type": "execute_result"
    }
   ],
   "source": [
    "df.nunique()"
   ]
  },
  {
   "cell_type": "code",
   "execution_count": 13,
   "id": "62f073c1",
   "metadata": {},
   "outputs": [
    {
     "data": {
      "text/html": [
       "<div>\n",
       "<style scoped>\n",
       "    .dataframe tbody tr th:only-of-type {\n",
       "        vertical-align: middle;\n",
       "    }\n",
       "\n",
       "    .dataframe tbody tr th {\n",
       "        vertical-align: top;\n",
       "    }\n",
       "\n",
       "    .dataframe thead th {\n",
       "        text-align: right;\n",
       "    }\n",
       "</style>\n",
       "<table border=\"1\" class=\"dataframe\">\n",
       "  <thead>\n",
       "    <tr style=\"text-align: right;\">\n",
       "      <th></th>\n",
       "      <th>age</th>\n",
       "      <th>income</th>\n",
       "      <th>performance_score</th>\n",
       "    </tr>\n",
       "  </thead>\n",
       "  <tbody>\n",
       "    <tr>\n",
       "      <th>count</th>\n",
       "      <td>7.000000</td>\n",
       "      <td>7.000000</td>\n",
       "      <td>9.000000</td>\n",
       "    </tr>\n",
       "    <tr>\n",
       "      <th>mean</th>\n",
       "      <td>40.428571</td>\n",
       "      <td>52857.142857</td>\n",
       "      <td>610.666667</td>\n",
       "    </tr>\n",
       "    <tr>\n",
       "      <th>std</th>\n",
       "      <td>12.204605</td>\n",
       "      <td>26028.372797</td>\n",
       "      <td>235.671912</td>\n",
       "    </tr>\n",
       "    <tr>\n",
       "      <th>min</th>\n",
       "      <td>23.000000</td>\n",
       "      <td>16000.000000</td>\n",
       "      <td>53.000000</td>\n",
       "    </tr>\n",
       "    <tr>\n",
       "      <th>25%</th>\n",
       "      <td>31.000000</td>\n",
       "      <td>38500.000000</td>\n",
       "      <td>556.000000</td>\n",
       "    </tr>\n",
       "    <tr>\n",
       "      <th>50%</th>\n",
       "      <td>45.000000</td>\n",
       "      <td>52000.000000</td>\n",
       "      <td>674.000000</td>\n",
       "    </tr>\n",
       "    <tr>\n",
       "      <th>75%</th>\n",
       "      <td>49.500000</td>\n",
       "      <td>63500.000000</td>\n",
       "      <td>711.000000</td>\n",
       "    </tr>\n",
       "    <tr>\n",
       "      <th>max</th>\n",
       "      <td>54.000000</td>\n",
       "      <td>98000.000000</td>\n",
       "      <td>901.000000</td>\n",
       "    </tr>\n",
       "  </tbody>\n",
       "</table>\n",
       "</div>"
      ],
      "text/plain": [
       "             age        income  performance_score\n",
       "count   7.000000      7.000000           9.000000\n",
       "mean   40.428571  52857.142857         610.666667\n",
       "std    12.204605  26028.372797         235.671912\n",
       "min    23.000000  16000.000000          53.000000\n",
       "25%    31.000000  38500.000000         556.000000\n",
       "50%    45.000000  52000.000000         674.000000\n",
       "75%    49.500000  63500.000000         711.000000\n",
       "max    54.000000  98000.000000         901.000000"
      ]
     },
     "execution_count": 13,
     "metadata": {},
     "output_type": "execute_result"
    }
   ],
   "source": [
    "# Getting descriptive statistics summary of dataset\n",
    "df.describe()"
   ]
  },
  {
   "cell_type": "code",
   "execution_count": 14,
   "id": "457e1dfd",
   "metadata": {},
   "outputs": [
    {
     "data": {
      "text/plain": [
       "<AxesSubplot:>"
      ]
     },
     "execution_count": 14,
     "metadata": {},
     "output_type": "execute_result"
    },
    {
     "data": {
      "image/png": "[encoded data removed]",
      "text/plain": [
       "<Figure size 720x720 with 2 Axes>"
      ]
     },
     "metadata": {
      "needs_background": "light"
     },
     "output_type": "display_data"
    }
   ],
   "source": [
    "corr= df.corr()\n",
    "fig, ax= plt.subplots(figsize=(10,10))\n",
    "sns.heatmap(corr,vmax=1, square=True,annot=True,fmt=\".4g\",ax=ax)"
   ]
  },
  {
   "cell_type": "markdown",
   "id": "a340d59d",
   "metadata": {},
   "source": [
    "## 2.Reset the index as \"name\" as the index"
   ]
  },
  {
   "cell_type": "code",
   "execution_count": 15,
   "id": "27a8de2b",
   "metadata": {},
   "outputs": [],
   "source": [
    "df.set_index([\"name\"],inplace=True)"
   ]
  },
  {
   "cell_type": "code",
   "execution_count": 16,
   "id": "4d24abe5",
   "metadata": {},
   "outputs": [
    {
     "data": {
      "text/html": [
       "<div>\n",
       "<style scoped>\n",
       "    .dataframe tbody tr th:only-of-type {\n",
       "        vertical-align: middle;\n",
       "    }\n",
       "\n",
       "    .dataframe tbody tr th {\n",
       "        vertical-align: top;\n",
       "    }\n",
       "\n",
       "    .dataframe thead th {\n",
       "        text-align: right;\n",
       "    }\n",
       "</style>\n",
       "<table border=\"1\" class=\"dataframe\">\n",
       "  <thead>\n",
       "    <tr style=\"text-align: right;\">\n",
       "      <th></th>\n",
       "      <th>age</th>\n",
       "      <th>income</th>\n",
       "      <th>gender</th>\n",
       "      <th>department</th>\n",
       "      <th>grade</th>\n",
       "      <th>performance_score</th>\n",
       "    </tr>\n",
       "    <tr>\n",
       "      <th>name</th>\n",
       "      <th></th>\n",
       "      <th></th>\n",
       "      <th></th>\n",
       "      <th></th>\n",
       "      <th></th>\n",
       "      <th></th>\n",
       "    </tr>\n",
       "  </thead>\n",
       "  <tbody>\n",
       "    <tr>\n",
       "      <th>Allen Smith</th>\n",
       "      <td>45.0</td>\n",
       "      <td>NaN</td>\n",
       "      <td>NaN</td>\n",
       "      <td>Operations</td>\n",
       "      <td>G3</td>\n",
       "      <td>723</td>\n",
       "    </tr>\n",
       "    <tr>\n",
       "      <th>S Kumar</th>\n",
       "      <td>NaN</td>\n",
       "      <td>16000.0</td>\n",
       "      <td>F</td>\n",
       "      <td>Finance</td>\n",
       "      <td>G0</td>\n",
       "      <td>520</td>\n",
       "    </tr>\n",
       "    <tr>\n",
       "      <th>Jack Morgan</th>\n",
       "      <td>32.0</td>\n",
       "      <td>35000.0</td>\n",
       "      <td>M</td>\n",
       "      <td>Finance</td>\n",
       "      <td>G2</td>\n",
       "      <td>674</td>\n",
       "    </tr>\n",
       "    <tr>\n",
       "      <th>Ying Chin</th>\n",
       "      <td>45.0</td>\n",
       "      <td>65000.0</td>\n",
       "      <td>F</td>\n",
       "      <td>Sales</td>\n",
       "      <td>G3</td>\n",
       "      <td>556</td>\n",
       "    </tr>\n",
       "    <tr>\n",
       "      <th>Dheeraj Patel</th>\n",
       "      <td>30.0</td>\n",
       "      <td>42000.0</td>\n",
       "      <td>F</td>\n",
       "      <td>Operations</td>\n",
       "      <td>G2</td>\n",
       "      <td>711</td>\n",
       "    </tr>\n",
       "    <tr>\n",
       "      <th>Satyam Sharma</th>\n",
       "      <td>NaN</td>\n",
       "      <td>62000.0</td>\n",
       "      <td>NaN</td>\n",
       "      <td>Sales</td>\n",
       "      <td>G3</td>\n",
       "      <td>649</td>\n",
       "    </tr>\n",
       "    <tr>\n",
       "      <th>James Authur</th>\n",
       "      <td>54.0</td>\n",
       "      <td>NaN</td>\n",
       "      <td>F</td>\n",
       "      <td>Operations</td>\n",
       "      <td>G3</td>\n",
       "      <td>53</td>\n",
       "    </tr>\n",
       "    <tr>\n",
       "      <th>Josh Wills</th>\n",
       "      <td>54.0</td>\n",
       "      <td>52000.0</td>\n",
       "      <td>F</td>\n",
       "      <td>Finance</td>\n",
       "      <td>G3</td>\n",
       "      <td>901</td>\n",
       "    </tr>\n",
       "    <tr>\n",
       "      <th>Leo Duck</th>\n",
       "      <td>23.0</td>\n",
       "      <td>98000.0</td>\n",
       "      <td>M</td>\n",
       "      <td>Sales</td>\n",
       "      <td>G4</td>\n",
       "      <td>709</td>\n",
       "    </tr>\n",
       "  </tbody>\n",
       "</table>\n",
       "</div>"
      ],
      "text/plain": [
       "                age   income gender  department grade  performance_score\n",
       "name                                                                    \n",
       "Allen Smith    45.0      NaN    NaN  Operations    G3                723\n",
       "S Kumar         NaN  16000.0      F     Finance    G0                520\n",
       "Jack Morgan    32.0  35000.0      M     Finance    G2                674\n",
       "Ying Chin      45.0  65000.0      F       Sales    G3                556\n",
       "Dheeraj Patel  30.0  42000.0      F  Operations    G2                711\n",
       "Satyam Sharma   NaN  62000.0    NaN       Sales    G3                649\n",
       "James Authur   54.0      NaN      F  Operations    G3                 53\n",
       "Josh Wills     54.0  52000.0      F     Finance    G3                901\n",
       "Leo Duck       23.0  98000.0      M       Sales    G4                709"
      ]
     },
     "execution_count": 16,
     "metadata": {},
     "output_type": "execute_result"
    }
   ],
   "source": [
    "df"
   ]
  },
  {
   "cell_type": "markdown",
   "id": "f48d8462",
   "metadata": {},
   "source": [
    "## 3. Select rows for specific names Jack Morgan and Josh wills."
   ]
  },
  {
   "cell_type": "code",
   "execution_count": 17,
   "id": "435a0ae5",
   "metadata": {},
   "outputs": [
    {
     "data": {
      "text/html": [
       "<div>\n",
       "<style scoped>\n",
       "    .dataframe tbody tr th:only-of-type {\n",
       "        vertical-align: middle;\n",
       "    }\n",
       "\n",
       "    .dataframe tbody tr th {\n",
       "        vertical-align: top;\n",
       "    }\n",
       "\n",
       "    .dataframe thead th {\n",
       "        text-align: right;\n",
       "    }\n",
       "</style>\n",
       "<table border=\"1\" class=\"dataframe\">\n",
       "  <thead>\n",
       "    <tr style=\"text-align: right;\">\n",
       "      <th></th>\n",
       "      <th>age</th>\n",
       "      <th>income</th>\n",
       "      <th>gender</th>\n",
       "      <th>department</th>\n",
       "      <th>grade</th>\n",
       "      <th>performance_score</th>\n",
       "    </tr>\n",
       "    <tr>\n",
       "      <th>name</th>\n",
       "      <th></th>\n",
       "      <th></th>\n",
       "      <th></th>\n",
       "      <th></th>\n",
       "      <th></th>\n",
       "      <th></th>\n",
       "    </tr>\n",
       "  </thead>\n",
       "  <tbody>\n",
       "    <tr>\n",
       "      <th>Jack Morgan</th>\n",
       "      <td>32.0</td>\n",
       "      <td>35000.0</td>\n",
       "      <td>M</td>\n",
       "      <td>Finance</td>\n",
       "      <td>G2</td>\n",
       "      <td>674</td>\n",
       "    </tr>\n",
       "    <tr>\n",
       "      <th>Josh Wills</th>\n",
       "      <td>54.0</td>\n",
       "      <td>52000.0</td>\n",
       "      <td>F</td>\n",
       "      <td>Finance</td>\n",
       "      <td>G3</td>\n",
       "      <td>901</td>\n",
       "    </tr>\n",
       "  </tbody>\n",
       "</table>\n",
       "</div>"
      ],
      "text/plain": [
       "              age   income gender department grade  performance_score\n",
       "name                                                                 \n",
       "Jack Morgan  32.0  35000.0      M    Finance    G2                674\n",
       "Josh Wills   54.0  52000.0      F    Finance    G3                901"
      ]
     },
     "execution_count": 17,
     "metadata": {},
     "output_type": "execute_result"
    }
   ],
   "source": [
    "df.loc[[\"Jack Morgan\",\"Josh Wills\"]]"
   ]
  },
  {
   "cell_type": "markdown",
   "id": "93ed2d64",
   "metadata": {},
   "source": [
    "## 4. Select data for multiple values \"Sales\" and “Finance”"
   ]
  },
  {
   "cell_type": "code",
   "execution_count": 18,
   "id": "1da69f39",
   "metadata": {},
   "outputs": [
    {
     "data": {
      "text/html": [
       "<div>\n",
       "<style scoped>\n",
       "    .dataframe tbody tr th:only-of-type {\n",
       "        vertical-align: middle;\n",
       "    }\n",
       "\n",
       "    .dataframe tbody tr th {\n",
       "        vertical-align: top;\n",
       "    }\n",
       "\n",
       "    .dataframe thead th {\n",
       "        text-align: right;\n",
       "    }\n",
       "</style>\n",
       "<table border=\"1\" class=\"dataframe\">\n",
       "  <thead>\n",
       "    <tr style=\"text-align: right;\">\n",
       "      <th></th>\n",
       "      <th>age</th>\n",
       "      <th>income</th>\n",
       "      <th>gender</th>\n",
       "      <th>department</th>\n",
       "      <th>grade</th>\n",
       "      <th>performance_score</th>\n",
       "    </tr>\n",
       "    <tr>\n",
       "      <th>name</th>\n",
       "      <th></th>\n",
       "      <th></th>\n",
       "      <th></th>\n",
       "      <th></th>\n",
       "      <th></th>\n",
       "      <th></th>\n",
       "    </tr>\n",
       "  </thead>\n",
       "  <tbody>\n",
       "    <tr>\n",
       "      <th>S Kumar</th>\n",
       "      <td>NaN</td>\n",
       "      <td>16000.0</td>\n",
       "      <td>F</td>\n",
       "      <td>Finance</td>\n",
       "      <td>G0</td>\n",
       "      <td>520</td>\n",
       "    </tr>\n",
       "    <tr>\n",
       "      <th>Jack Morgan</th>\n",
       "      <td>32.0</td>\n",
       "      <td>35000.0</td>\n",
       "      <td>M</td>\n",
       "      <td>Finance</td>\n",
       "      <td>G2</td>\n",
       "      <td>674</td>\n",
       "    </tr>\n",
       "    <tr>\n",
       "      <th>Ying Chin</th>\n",
       "      <td>45.0</td>\n",
       "      <td>65000.0</td>\n",
       "      <td>F</td>\n",
       "      <td>Sales</td>\n",
       "      <td>G3</td>\n",
       "      <td>556</td>\n",
       "    </tr>\n",
       "    <tr>\n",
       "      <th>Satyam Sharma</th>\n",
       "      <td>NaN</td>\n",
       "      <td>62000.0</td>\n",
       "      <td>NaN</td>\n",
       "      <td>Sales</td>\n",
       "      <td>G3</td>\n",
       "      <td>649</td>\n",
       "    </tr>\n",
       "    <tr>\n",
       "      <th>Josh Wills</th>\n",
       "      <td>54.0</td>\n",
       "      <td>52000.0</td>\n",
       "      <td>F</td>\n",
       "      <td>Finance</td>\n",
       "      <td>G3</td>\n",
       "      <td>901</td>\n",
       "    </tr>\n",
       "    <tr>\n",
       "      <th>Leo Duck</th>\n",
       "      <td>23.0</td>\n",
       "      <td>98000.0</td>\n",
       "      <td>M</td>\n",
       "      <td>Sales</td>\n",
       "      <td>G4</td>\n",
       "      <td>709</td>\n",
       "    </tr>\n",
       "  </tbody>\n",
       "</table>\n",
       "</div>"
      ],
      "text/plain": [
       "                age   income gender department grade  performance_score\n",
       "name                                                                   \n",
       "S Kumar         NaN  16000.0      F    Finance    G0                520\n",
       "Jack Morgan    32.0  35000.0      M    Finance    G2                674\n",
       "Ying Chin      45.0  65000.0      F      Sales    G3                556\n",
       "Satyam Sharma   NaN  62000.0    NaN      Sales    G3                649\n",
       "Josh Wills     54.0  52000.0      F    Finance    G3                901\n",
       "Leo Duck       23.0  98000.0      M      Sales    G4                709"
      ]
     },
     "execution_count": 18,
     "metadata": {},
     "output_type": "execute_result"
    }
   ],
   "source": [
    "df[(df[\"department\"]==\"Sales\") | (df[\"department\"]==\"Finance\")]"
   ]
  },
  {
   "cell_type": "markdown",
   "id": "2e88a5d5",
   "metadata": {},
   "source": [
    "## 5.Display employee who has more than 700 performance score."
   ]
  },
  {
   "cell_type": "code",
   "execution_count": 19,
   "id": "5804c95b",
   "metadata": {},
   "outputs": [
    {
     "data": {
      "text/html": [
       "<div>\n",
       "<style scoped>\n",
       "    .dataframe tbody tr th:only-of-type {\n",
       "        vertical-align: middle;\n",
       "    }\n",
       "\n",
       "    .dataframe tbody tr th {\n",
       "        vertical-align: top;\n",
       "    }\n",
       "\n",
       "    .dataframe thead th {\n",
       "        text-align: right;\n",
       "    }\n",
       "</style>\n",
       "<table border=\"1\" class=\"dataframe\">\n",
       "  <thead>\n",
       "    <tr style=\"text-align: right;\">\n",
       "      <th></th>\n",
       "      <th>age</th>\n",
       "      <th>income</th>\n",
       "      <th>gender</th>\n",
       "      <th>department</th>\n",
       "      <th>grade</th>\n",
       "      <th>performance_score</th>\n",
       "    </tr>\n",
       "    <tr>\n",
       "      <th>name</th>\n",
       "      <th></th>\n",
       "      <th></th>\n",
       "      <th></th>\n",
       "      <th></th>\n",
       "      <th></th>\n",
       "      <th></th>\n",
       "    </tr>\n",
       "  </thead>\n",
       "  <tbody>\n",
       "    <tr>\n",
       "      <th>Allen Smith</th>\n",
       "      <td>45.0</td>\n",
       "      <td>NaN</td>\n",
       "      <td>NaN</td>\n",
       "      <td>Operations</td>\n",
       "      <td>G3</td>\n",
       "      <td>723</td>\n",
       "    </tr>\n",
       "    <tr>\n",
       "      <th>Dheeraj Patel</th>\n",
       "      <td>30.0</td>\n",
       "      <td>42000.0</td>\n",
       "      <td>F</td>\n",
       "      <td>Operations</td>\n",
       "      <td>G2</td>\n",
       "      <td>711</td>\n",
       "    </tr>\n",
       "    <tr>\n",
       "      <th>Josh Wills</th>\n",
       "      <td>54.0</td>\n",
       "      <td>52000.0</td>\n",
       "      <td>F</td>\n",
       "      <td>Finance</td>\n",
       "      <td>G3</td>\n",
       "      <td>901</td>\n",
       "    </tr>\n",
       "    <tr>\n",
       "      <th>Leo Duck</th>\n",
       "      <td>23.0</td>\n",
       "      <td>98000.0</td>\n",
       "      <td>M</td>\n",
       "      <td>Sales</td>\n",
       "      <td>G4</td>\n",
       "      <td>709</td>\n",
       "    </tr>\n",
       "  </tbody>\n",
       "</table>\n",
       "</div>"
      ],
      "text/plain": [
       "                age   income gender  department grade  performance_score\n",
       "name                                                                    \n",
       "Allen Smith    45.0      NaN    NaN  Operations    G3                723\n",
       "Dheeraj Patel  30.0  42000.0      F  Operations    G2                711\n",
       "Josh Wills     54.0  52000.0      F     Finance    G3                901\n",
       "Leo Duck       23.0  98000.0      M       Sales    G4                709"
      ]
     },
     "execution_count": 19,
     "metadata": {},
     "output_type": "execute_result"
    }
   ],
   "source": [
    "df[df[\"performance_score\"]>700]"
   ]
  },
  {
   "cell_type": "markdown",
   "id": "84756d85",
   "metadata": {},
   "source": [
    "## 6. Display employee who has more than 500 and less than 700 performance score "
   ]
  },
  {
   "cell_type": "code",
   "execution_count": 20,
   "id": "08e1c6b6",
   "metadata": {},
   "outputs": [
    {
     "data": {
      "text/html": [
       "<div>\n",
       "<style scoped>\n",
       "    .dataframe tbody tr th:only-of-type {\n",
       "        vertical-align: middle;\n",
       "    }\n",
       "\n",
       "    .dataframe tbody tr th {\n",
       "        vertical-align: top;\n",
       "    }\n",
       "\n",
       "    .dataframe thead th {\n",
       "        text-align: right;\n",
       "    }\n",
       "</style>\n",
       "<table border=\"1\" class=\"dataframe\">\n",
       "  <thead>\n",
       "    <tr style=\"text-align: right;\">\n",
       "      <th></th>\n",
       "      <th>age</th>\n",
       "      <th>income</th>\n",
       "      <th>gender</th>\n",
       "      <th>department</th>\n",
       "      <th>grade</th>\n",
       "      <th>performance_score</th>\n",
       "    </tr>\n",
       "    <tr>\n",
       "      <th>name</th>\n",
       "      <th></th>\n",
       "      <th></th>\n",
       "      <th></th>\n",
       "      <th></th>\n",
       "      <th></th>\n",
       "      <th></th>\n",
       "    </tr>\n",
       "  </thead>\n",
       "  <tbody>\n",
       "    <tr>\n",
       "      <th>S Kumar</th>\n",
       "      <td>NaN</td>\n",
       "      <td>16000.0</td>\n",
       "      <td>F</td>\n",
       "      <td>Finance</td>\n",
       "      <td>G0</td>\n",
       "      <td>520</td>\n",
       "    </tr>\n",
       "    <tr>\n",
       "      <th>Jack Morgan</th>\n",
       "      <td>32.0</td>\n",
       "      <td>35000.0</td>\n",
       "      <td>M</td>\n",
       "      <td>Finance</td>\n",
       "      <td>G2</td>\n",
       "      <td>674</td>\n",
       "    </tr>\n",
       "    <tr>\n",
       "      <th>Ying Chin</th>\n",
       "      <td>45.0</td>\n",
       "      <td>65000.0</td>\n",
       "      <td>F</td>\n",
       "      <td>Sales</td>\n",
       "      <td>G3</td>\n",
       "      <td>556</td>\n",
       "    </tr>\n",
       "    <tr>\n",
       "      <th>Satyam Sharma</th>\n",
       "      <td>NaN</td>\n",
       "      <td>62000.0</td>\n",
       "      <td>NaN</td>\n",
       "      <td>Sales</td>\n",
       "      <td>G3</td>\n",
       "      <td>649</td>\n",
       "    </tr>\n",
       "  </tbody>\n",
       "</table>\n",
       "</div>"
      ],
      "text/plain": [
       "                age   income gender department grade  performance_score\n",
       "name                                                                   \n",
       "S Kumar         NaN  16000.0      F    Finance    G0                520\n",
       "Jack Morgan    32.0  35000.0      M    Finance    G2                674\n",
       "Ying Chin      45.0  65000.0      F      Sales    G3                556\n",
       "Satyam Sharma   NaN  62000.0    NaN      Sales    G3                649"
      ]
     },
     "execution_count": 20,
     "metadata": {},
     "output_type": "execute_result"
    }
   ],
   "source": [
    "df[(df[\"performance_score\"]>500) & (df[\"performance_score\"]<700)]"
   ]
  },
  {
   "cell_type": "markdown",
   "id": "c0e1e396",
   "metadata": {},
   "source": [
    "## 7.Check and handle missing values in the dataset. "
   ]
  },
  {
   "cell_type": "code",
   "execution_count": 21,
   "id": "5892eab3",
   "metadata": {},
   "outputs": [
    {
     "data": {
      "text/html": [
       "<div>\n",
       "<style scoped>\n",
       "    .dataframe tbody tr th:only-of-type {\n",
       "        vertical-align: middle;\n",
       "    }\n",
       "\n",
       "    .dataframe tbody tr th {\n",
       "        vertical-align: top;\n",
       "    }\n",
       "\n",
       "    .dataframe thead th {\n",
       "        text-align: right;\n",
       "    }\n",
       "</style>\n",
       "<table border=\"1\" class=\"dataframe\">\n",
       "  <thead>\n",
       "    <tr style=\"text-align: right;\">\n",
       "      <th></th>\n",
       "      <th>age</th>\n",
       "      <th>income</th>\n",
       "      <th>performance_score</th>\n",
       "    </tr>\n",
       "  </thead>\n",
       "  <tbody>\n",
       "    <tr>\n",
       "      <th>count</th>\n",
       "      <td>7.000000</td>\n",
       "      <td>7.000000</td>\n",
       "      <td>9.000000</td>\n",
       "    </tr>\n",
       "    <tr>\n",
       "      <th>mean</th>\n",
       "      <td>40.428571</td>\n",
       "      <td>52857.142857</td>\n",
       "      <td>610.666667</td>\n",
       "    </tr>\n",
       "    <tr>\n",
       "      <th>std</th>\n",
       "      <td>12.204605</td>\n",
       "      <td>26028.372797</td>\n",
       "      <td>235.671912</td>\n",
       "    </tr>\n",
       "    <tr>\n",
       "      <th>min</th>\n",
       "      <td>23.000000</td>\n",
       "      <td>16000.000000</td>\n",
       "      <td>53.000000</td>\n",
       "    </tr>\n",
       "    <tr>\n",
       "      <th>25%</th>\n",
       "      <td>31.000000</td>\n",
       "      <td>38500.000000</td>\n",
       "      <td>556.000000</td>\n",
       "    </tr>\n",
       "    <tr>\n",
       "      <th>50%</th>\n",
       "      <td>45.000000</td>\n",
       "      <td>52000.000000</td>\n",
       "      <td>674.000000</td>\n",
       "    </tr>\n",
       "    <tr>\n",
       "      <th>75%</th>\n",
       "      <td>49.500000</td>\n",
       "      <td>63500.000000</td>\n",
       "      <td>711.000000</td>\n",
       "    </tr>\n",
       "    <tr>\n",
       "      <th>max</th>\n",
       "      <td>54.000000</td>\n",
       "      <td>98000.000000</td>\n",
       "      <td>901.000000</td>\n",
       "    </tr>\n",
       "  </tbody>\n",
       "</table>\n",
       "</div>"
      ],
      "text/plain": [
       "             age        income  performance_score\n",
       "count   7.000000      7.000000           9.000000\n",
       "mean   40.428571  52857.142857         610.666667\n",
       "std    12.204605  26028.372797         235.671912\n",
       "min    23.000000  16000.000000          53.000000\n",
       "25%    31.000000  38500.000000         556.000000\n",
       "50%    45.000000  52000.000000         674.000000\n",
       "75%    49.500000  63500.000000         711.000000\n",
       "max    54.000000  98000.000000         901.000000"
      ]
     },
     "execution_count": 21,
     "metadata": {},
     "output_type": "execute_result"
    }
   ],
   "source": [
    "df.describe()"
   ]
  },
  {
   "cell_type": "code",
   "execution_count": 22,
   "id": "d96175a8",
   "metadata": {},
   "outputs": [
    {
     "data": {
      "text/plain": [
       "age                  2\n",
       "income               2\n",
       "gender               2\n",
       "department           0\n",
       "grade                0\n",
       "performance_score    0\n",
       "dtype: int64"
      ]
     },
     "execution_count": 22,
     "metadata": {},
     "output_type": "execute_result"
    }
   ],
   "source": [
    "df.isnull().sum()"
   ]
  },
  {
   "cell_type": "code",
   "execution_count": 23,
   "id": "cefa9c42",
   "metadata": {},
   "outputs": [
    {
     "data": {
      "text/plain": [
       "age                  float64\n",
       "income               float64\n",
       "gender                object\n",
       "department            object\n",
       "grade                 object\n",
       "performance_score      int64\n",
       "dtype: object"
      ]
     },
     "execution_count": 23,
     "metadata": {},
     "output_type": "execute_result"
    }
   ],
   "source": [
    "df.dtypes"
   ]
  },
  {
   "cell_type": "code",
   "execution_count": 24,
   "id": "5fa65a9f",
   "metadata": {},
   "outputs": [
    {
     "data": {
      "text/plain": [
       "<AxesSubplot:xlabel='age', ylabel='Density'>"
      ]
     },
     "execution_count": 24,
     "metadata": {},
     "output_type": "execute_result"
    },
    {
     "data": {
      "image/png": "[encoded data removed]",
      "text/plain": [
       "<Figure size 432x288 with 1 Axes>"
      ]
     },
     "metadata": {
      "needs_background": "light"
     },
     "output_type": "display_data"
    }
   ],
   "source": [
    "sns.distplot(df[\"age\"])"
   ]
  },
  {
   "cell_type": "code",
   "execution_count": 25,
   "id": "0af88fb7",
   "metadata": {},
   "outputs": [
    {
     "data": {
      "text/plain": [
       "<AxesSubplot:xlabel='income', ylabel='Density'>"
      ]
     },
     "execution_count": 25,
     "metadata": {},
     "output_type": "execute_result"
    },
    {
     "data": {
      "image/png": "[encoded data removed]",
      "text/plain": [
       "<Figure size 432x288 with 1 Axes>"
      ]
     },
     "metadata": {
      "needs_background": "light"
     },
     "output_type": "display_data"
    }
   ],
   "source": [
    "sns.distplot(df[\"income\"])"
   ]
  },
  {
   "cell_type": "code",
   "execution_count": 26,
   "id": "97921f2b",
   "metadata": {},
   "outputs": [],
   "source": [
    "#filling missing values of age with its median\n",
    "df[\"age\"]=df[\"age\"].fillna(df[\"age\"].median())\n",
    "#filling missing values of income with its median\n",
    "df[\"income\"]=df[\"income\"].fillna(df[\"income\"].median())\n",
    "#filling missing values of gender with  commonly occuring value\n",
    "df[\"gender\"]=df[\"gender\"].fillna(df[\"gender\"].value_counts().index[0])"
   ]
  },
  {
   "cell_type": "code",
   "execution_count": 27,
   "id": "8df0cd70",
   "metadata": {},
   "outputs": [
    {
     "data": {
      "text/plain": [
       "age                  0\n",
       "income               0\n",
       "gender               0\n",
       "department           0\n",
       "grade                0\n",
       "performance_score    0\n",
       "dtype: int64"
      ]
     },
     "execution_count": 27,
     "metadata": {},
     "output_type": "execute_result"
    }
   ],
   "source": [
    "df.isnull().sum()"
   ]
  },
  {
   "cell_type": "markdown",
   "id": "a69fc41b",
   "metadata": {},
   "source": [
    "## 8.Check the outliers and handle outliers in performance score using Percentiles "
   ]
  },
  {
   "cell_type": "code",
   "execution_count": 28,
   "id": "d1be3b8d",
   "metadata": {},
   "outputs": [
    {
     "data": {
      "text/plain": [
       "Text(0.5, 1.0, 'Box plot of Performance score')"
      ]
     },
     "execution_count": 28,
     "metadata": {},
     "output_type": "execute_result"
    },
    {
     "data": {
      "image/png": "[encoded data removed]",
      "text/plain": [
       "<Figure size 432x288 with 1 Axes>"
      ]
     },
     "metadata": {
      "needs_background": "light"
     },
     "output_type": "display_data"
    }
   ],
   "source": [
    "plt.boxplot(df[\"performance_score\"])\n",
    "plt.title(\"Box plot of Performance score\")"
   ]
  },
  {
   "cell_type": "code",
   "execution_count": 29,
   "id": "4df7aa24",
   "metadata": {},
   "outputs": [],
   "source": [
    "#finding different quartile values of income \n",
    "Q1= np.percentile(df[\"performance_score\"],25,interpolation=\"midpoint\")\n",
    "Q2= np.percentile(df[\"performance_score\"],50,interpolation=\"midpoint\")\n",
    "Q3= np.percentile(df[\"performance_score\"],75,interpolation=\"midpoint\")"
   ]
  },
  {
   "cell_type": "code",
   "execution_count": 30,
   "id": "20eb4959",
   "metadata": {},
   "outputs": [
    {
     "name": "stdout",
     "output_type": "stream",
     "text": [
      "556.0\n",
      "674.0\n",
      "711.0\n"
     ]
    }
   ],
   "source": [
    "print(Q1)\n",
    "print(Q2)\n",
    "print(Q3)"
   ]
  },
  {
   "cell_type": "code",
   "execution_count": 31,
   "id": "4313df74",
   "metadata": {},
   "outputs": [
    {
     "data": {
      "text/plain": [
       "155.0"
      ]
     },
     "execution_count": 31,
     "metadata": {},
     "output_type": "execute_result"
    }
   ],
   "source": [
    "#finding IQR\n",
    "IQR= Q3-Q1\n",
    "IQR"
   ]
  },
  {
   "cell_type": "code",
   "execution_count": 32,
   "id": "6e66fbee",
   "metadata": {},
   "outputs": [
    {
     "name": "stdout",
     "output_type": "stream",
     "text": [
      "323.5\n",
      "943.5\n"
     ]
    }
   ],
   "source": [
    "#finding lower limit & upper limit\n",
    "low_lim=Q1-1.5*IQR\n",
    "up_lim=Q3+1.5*IQR\n",
    "print(low_lim)\n",
    "print(up_lim)"
   ]
  },
  {
   "cell_type": "code",
   "execution_count": 33,
   "id": "d708f8aa",
   "metadata": {},
   "outputs": [],
   "source": [
    "#removing all the value below lower limit & above upper limt\n",
    "outlier=[]\n",
    "for x in df[\"performance_score\"]:\n",
    "    if((x>up_lim) or(x<low_lim)):\n",
    "        outlier.append(x)"
   ]
  },
  {
   "cell_type": "code",
   "execution_count": 34,
   "id": "4ecb68bf",
   "metadata": {},
   "outputs": [
    {
     "data": {
      "text/plain": [
       "[53]"
      ]
     },
     "execution_count": 34,
     "metadata": {},
     "output_type": "execute_result"
    }
   ],
   "source": [
    "#finding outliers\n",
    "outlier"
   ]
  },
  {
   "cell_type": "code",
   "execution_count": 35,
   "id": "0a1047cc",
   "metadata": {},
   "outputs": [],
   "source": [
    "#finding index of this outliers & droping\n",
    "index=df[\"performance_score\"][(df[\"performance_score\"]<low_lim) |(df[\"performance_score\"]>up_lim)]\n"
   ]
  },
  {
   "cell_type": "code",
   "execution_count": 36,
   "id": "dd681896",
   "metadata": {},
   "outputs": [
    {
     "data": {
      "text/plain": [
       "name\n",
       "James Authur    53\n",
       "Name: performance_score, dtype: int64"
      ]
     },
     "execution_count": 36,
     "metadata": {},
     "output_type": "execute_result"
    }
   ],
   "source": [
    "index"
   ]
  },
  {
   "cell_type": "code",
   "execution_count": 37,
   "id": "4c59721f",
   "metadata": {},
   "outputs": [],
   "source": [
    "df.drop(['James Authur'],inplace= True)"
   ]
  },
  {
   "cell_type": "code",
   "execution_count": 38,
   "id": "324f89e6",
   "metadata": {},
   "outputs": [
    {
     "data": {
      "text/plain": [
       "Text(0.5, 1.0, 'Box plot of Performance score')"
      ]
     },
     "execution_count": 38,
     "metadata": {},
     "output_type": "execute_result"
    },
    {
     "data": {
      "image/png": "[encoded data removed]",
      "text/plain": [
       "<Figure size 432x288 with 1 Axes>"
      ]
     },
     "metadata": {
      "needs_background": "light"
     },
     "output_type": "display_data"
    }
   ],
   "source": [
    "plt.boxplot(df[\"performance_score\"])\n",
    "plt.title(\"Box plot of Performance score\")"
   ]
  },
  {
   "cell_type": "markdown",
   "id": "dcfb5556",
   "metadata": {},
   "source": [
    "## 9. Check the gender column and do Dummy encoding. "
   ]
  },
  {
   "cell_type": "code",
   "execution_count": 39,
   "id": "9f45c6ba",
   "metadata": {},
   "outputs": [
    {
     "data": {
      "text/html": [
       "<div>\n",
       "<style scoped>\n",
       "    .dataframe tbody tr th:only-of-type {\n",
       "        vertical-align: middle;\n",
       "    }\n",
       "\n",
       "    .dataframe tbody tr th {\n",
       "        vertical-align: top;\n",
       "    }\n",
       "\n",
       "    .dataframe thead th {\n",
       "        text-align: right;\n",
       "    }\n",
       "</style>\n",
       "<table border=\"1\" class=\"dataframe\">\n",
       "  <thead>\n",
       "    <tr style=\"text-align: right;\">\n",
       "      <th></th>\n",
       "      <th>age</th>\n",
       "      <th>income</th>\n",
       "      <th>gender</th>\n",
       "      <th>department</th>\n",
       "      <th>grade</th>\n",
       "      <th>performance_score</th>\n",
       "    </tr>\n",
       "    <tr>\n",
       "      <th>name</th>\n",
       "      <th></th>\n",
       "      <th></th>\n",
       "      <th></th>\n",
       "      <th></th>\n",
       "      <th></th>\n",
       "      <th></th>\n",
       "    </tr>\n",
       "  </thead>\n",
       "  <tbody>\n",
       "    <tr>\n",
       "      <th>Allen Smith</th>\n",
       "      <td>45.0</td>\n",
       "      <td>52000.0</td>\n",
       "      <td>F</td>\n",
       "      <td>Operations</td>\n",
       "      <td>G3</td>\n",
       "      <td>723</td>\n",
       "    </tr>\n",
       "    <tr>\n",
       "      <th>S Kumar</th>\n",
       "      <td>45.0</td>\n",
       "      <td>16000.0</td>\n",
       "      <td>F</td>\n",
       "      <td>Finance</td>\n",
       "      <td>G0</td>\n",
       "      <td>520</td>\n",
       "    </tr>\n",
       "    <tr>\n",
       "      <th>Jack Morgan</th>\n",
       "      <td>32.0</td>\n",
       "      <td>35000.0</td>\n",
       "      <td>M</td>\n",
       "      <td>Finance</td>\n",
       "      <td>G2</td>\n",
       "      <td>674</td>\n",
       "    </tr>\n",
       "    <tr>\n",
       "      <th>Ying Chin</th>\n",
       "      <td>45.0</td>\n",
       "      <td>65000.0</td>\n",
       "      <td>F</td>\n",
       "      <td>Sales</td>\n",
       "      <td>G3</td>\n",
       "      <td>556</td>\n",
       "    </tr>\n",
       "    <tr>\n",
       "      <th>Dheeraj Patel</th>\n",
       "      <td>30.0</td>\n",
       "      <td>42000.0</td>\n",
       "      <td>F</td>\n",
       "      <td>Operations</td>\n",
       "      <td>G2</td>\n",
       "      <td>711</td>\n",
       "    </tr>\n",
       "    <tr>\n",
       "      <th>Satyam Sharma</th>\n",
       "      <td>45.0</td>\n",
       "      <td>62000.0</td>\n",
       "      <td>F</td>\n",
       "      <td>Sales</td>\n",
       "      <td>G3</td>\n",
       "      <td>649</td>\n",
       "    </tr>\n",
       "    <tr>\n",
       "      <th>Josh Wills</th>\n",
       "      <td>54.0</td>\n",
       "      <td>52000.0</td>\n",
       "      <td>F</td>\n",
       "      <td>Finance</td>\n",
       "      <td>G3</td>\n",
       "      <td>901</td>\n",
       "    </tr>\n",
       "    <tr>\n",
       "      <th>Leo Duck</th>\n",
       "      <td>23.0</td>\n",
       "      <td>98000.0</td>\n",
       "      <td>M</td>\n",
       "      <td>Sales</td>\n",
       "      <td>G4</td>\n",
       "      <td>709</td>\n",
       "    </tr>\n",
       "  </tbody>\n",
       "</table>\n",
       "</div>"
      ],
      "text/plain": [
       "                age   income gender  department grade  performance_score\n",
       "name                                                                    \n",
       "Allen Smith    45.0  52000.0      F  Operations    G3                723\n",
       "S Kumar        45.0  16000.0      F     Finance    G0                520\n",
       "Jack Morgan    32.0  35000.0      M     Finance    G2                674\n",
       "Ying Chin      45.0  65000.0      F       Sales    G3                556\n",
       "Dheeraj Patel  30.0  42000.0      F  Operations    G2                711\n",
       "Satyam Sharma  45.0  62000.0      F       Sales    G3                649\n",
       "Josh Wills     54.0  52000.0      F     Finance    G3                901\n",
       "Leo Duck       23.0  98000.0      M       Sales    G4                709"
      ]
     },
     "execution_count": 39,
     "metadata": {},
     "output_type": "execute_result"
    }
   ],
   "source": [
    "df"
   ]
  },
  {
   "cell_type": "code",
   "execution_count": 40,
   "id": "58c9ca57",
   "metadata": {},
   "outputs": [],
   "source": [
    "df=pd.get_dummies(df,columns=[\"gender\"])"
   ]
  },
  {
   "cell_type": "code",
   "execution_count": 41,
   "id": "1b8a1ebe",
   "metadata": {},
   "outputs": [
    {
     "data": {
      "text/html": [
       "<div>\n",
       "<style scoped>\n",
       "    .dataframe tbody tr th:only-of-type {\n",
       "        vertical-align: middle;\n",
       "    }\n",
       "\n",
       "    .dataframe tbody tr th {\n",
       "        vertical-align: top;\n",
       "    }\n",
       "\n",
       "    .dataframe thead th {\n",
       "        text-align: right;\n",
       "    }\n",
       "</style>\n",
       "<table border=\"1\" class=\"dataframe\">\n",
       "  <thead>\n",
       "    <tr style=\"text-align: right;\">\n",
       "      <th></th>\n",
       "      <th>age</th>\n",
       "      <th>income</th>\n",
       "      <th>department</th>\n",
       "      <th>grade</th>\n",
       "      <th>performance_score</th>\n",
       "      <th>gender_F</th>\n",
       "      <th>gender_M</th>\n",
       "    </tr>\n",
       "    <tr>\n",
       "      <th>name</th>\n",
       "      <th></th>\n",
       "      <th></th>\n",
       "      <th></th>\n",
       "      <th></th>\n",
       "      <th></th>\n",
       "      <th></th>\n",
       "      <th></th>\n",
       "    </tr>\n",
       "  </thead>\n",
       "  <tbody>\n",
       "    <tr>\n",
       "      <th>Allen Smith</th>\n",
       "      <td>45.0</td>\n",
       "      <td>52000.0</td>\n",
       "      <td>Operations</td>\n",
       "      <td>G3</td>\n",
       "      <td>723</td>\n",
       "      <td>1</td>\n",
       "      <td>0</td>\n",
       "    </tr>\n",
       "    <tr>\n",
       "      <th>S Kumar</th>\n",
       "      <td>45.0</td>\n",
       "      <td>16000.0</td>\n",
       "      <td>Finance</td>\n",
       "      <td>G0</td>\n",
       "      <td>520</td>\n",
       "      <td>1</td>\n",
       "      <td>0</td>\n",
       "    </tr>\n",
       "    <tr>\n",
       "      <th>Jack Morgan</th>\n",
       "      <td>32.0</td>\n",
       "      <td>35000.0</td>\n",
       "      <td>Finance</td>\n",
       "      <td>G2</td>\n",
       "      <td>674</td>\n",
       "      <td>0</td>\n",
       "      <td>1</td>\n",
       "    </tr>\n",
       "    <tr>\n",
       "      <th>Ying Chin</th>\n",
       "      <td>45.0</td>\n",
       "      <td>65000.0</td>\n",
       "      <td>Sales</td>\n",
       "      <td>G3</td>\n",
       "      <td>556</td>\n",
       "      <td>1</td>\n",
       "      <td>0</td>\n",
       "    </tr>\n",
       "    <tr>\n",
       "      <th>Dheeraj Patel</th>\n",
       "      <td>30.0</td>\n",
       "      <td>42000.0</td>\n",
       "      <td>Operations</td>\n",
       "      <td>G2</td>\n",
       "      <td>711</td>\n",
       "      <td>1</td>\n",
       "      <td>0</td>\n",
       "    </tr>\n",
       "    <tr>\n",
       "      <th>Satyam Sharma</th>\n",
       "      <td>45.0</td>\n",
       "      <td>62000.0</td>\n",
       "      <td>Sales</td>\n",
       "      <td>G3</td>\n",
       "      <td>649</td>\n",
       "      <td>1</td>\n",
       "      <td>0</td>\n",
       "    </tr>\n",
       "    <tr>\n",
       "      <th>Josh Wills</th>\n",
       "      <td>54.0</td>\n",
       "      <td>52000.0</td>\n",
       "      <td>Finance</td>\n",
       "      <td>G3</td>\n",
       "      <td>901</td>\n",
       "      <td>1</td>\n",
       "      <td>0</td>\n",
       "    </tr>\n",
       "    <tr>\n",
       "      <th>Leo Duck</th>\n",
       "      <td>23.0</td>\n",
       "      <td>98000.0</td>\n",
       "      <td>Sales</td>\n",
       "      <td>G4</td>\n",
       "      <td>709</td>\n",
       "      <td>0</td>\n",
       "      <td>1</td>\n",
       "    </tr>\n",
       "  </tbody>\n",
       "</table>\n",
       "</div>"
      ],
      "text/plain": [
       "                age   income  department grade  performance_score  gender_F  \\\n",
       "name                                                                          \n",
       "Allen Smith    45.0  52000.0  Operations    G3                723         1   \n",
       "S Kumar        45.0  16000.0     Finance    G0                520         1   \n",
       "Jack Morgan    32.0  35000.0     Finance    G2                674         0   \n",
       "Ying Chin      45.0  65000.0       Sales    G3                556         1   \n",
       "Dheeraj Patel  30.0  42000.0  Operations    G2                711         1   \n",
       "Satyam Sharma  45.0  62000.0       Sales    G3                649         1   \n",
       "Josh Wills     54.0  52000.0     Finance    G3                901         1   \n",
       "Leo Duck       23.0  98000.0       Sales    G4                709         0   \n",
       "\n",
       "               gender_M  \n",
       "name                     \n",
       "Allen Smith           0  \n",
       "S Kumar               0  \n",
       "Jack Morgan           1  \n",
       "Ying Chin             0  \n",
       "Dheeraj Patel         0  \n",
       "Satyam Sharma         0  \n",
       "Josh Wills            0  \n",
       "Leo Duck              1  "
      ]
     },
     "execution_count": 41,
     "metadata": {},
     "output_type": "execute_result"
    }
   ],
   "source": [
    "df"
   ]
  },
  {
   "cell_type": "markdown",
   "id": "da3175d7",
   "metadata": {},
   "source": [
    "## 10. Do the standard scaling on the feature performance score"
   ]
  },
  {
   "cell_type": "code",
   "execution_count": 42,
   "id": "5132a38c",
   "metadata": {},
   "outputs": [
    {
     "data": {
      "text/plain": [
       "Index(['age', 'income', 'department', 'grade', 'performance_score', 'gender_F',\n",
       "       'gender_M'],\n",
       "      dtype='object')"
      ]
     },
     "execution_count": 42,
     "metadata": {},
     "output_type": "execute_result"
    }
   ],
   "source": [
    "df.columns"
   ]
  },
  {
   "cell_type": "code",
   "execution_count": 43,
   "id": "481efc98",
   "metadata": {},
   "outputs": [
    {
     "data": {
      "text/plain": [
       "array([[ 0.39226224],\n",
       "       [-1.47587231],\n",
       "       [-0.05866679],\n",
       "       [-1.14457751],\n",
       "       [ 0.28183064],\n",
       "       [-0.28873262],\n",
       "       [ 2.03033096],\n",
       "       [ 0.26342538]])"
      ]
     },
     "execution_count": 43,
     "metadata": {},
     "output_type": "execute_result"
    }
   ],
   "source": [
    "from sklearn import preprocessing\n",
    "std=preprocessing.StandardScaler()\n",
    "x=df[\"performance_score\"]\n",
    "x=x.values.reshape(-1,1)\n",
    "x=std.fit_transform(x)\n",
    "x"
   ]
  },
  {
   "cell_type": "code",
   "execution_count": null,
   "id": "50a2806d",
   "metadata": {},
   "outputs": [],
   "source": []
  }
 ],
 "metadata": {
  "kernelspec": {
   "display_name": "Python 3",
   "language": "python",
   "name": "python3"
  },
  "language_info": {
   "codemirror_mode": {
    "name": "ipython",
    "version": 3
   },
   "file_extension": ".py",
   "mimetype": "text/x-python",
   "name": "python",
   "nbconvert_exporter": "python",
   "pygments_lexer": "ipython3",
   "version": "3.8.8"
  }
 },
 "nbformat": 4,
 "nbformat_minor": 5
}
